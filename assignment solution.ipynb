{
 "cells": [
  {
   "cell_type": "markdown",
   "id": "6037606b-809f-4979-8036-de5e53955fc1",
   "metadata": {},
   "source": [
    "# Solutions to Python assignments "
   ]
  },
  {
   "cell_type": "code",
   "execution_count": 19,
   "id": "d3f622c8-dca2-4cdf-b272-b416aa27f69a",
   "metadata": {},
   "outputs": [],
   "source": [
    "# Q1. A function that takes two arguments, name and age, and print their values"
   ]
  },
  {
   "cell_type": "code",
   "execution_count": 12,
   "id": "05bec4b1-254f-4658-bc0f-be67352a2a03",
   "metadata": {},
   "outputs": [],
   "source": [
    "def func(name,age):\n",
    "    print(name,age)"
   ]
  },
  {
   "cell_type": "code",
   "execution_count": 13,
   "id": "ba554117-0ab5-4a77-b723-376c44019087",
   "metadata": {},
   "outputs": [
    {
     "name": "stdout",
     "output_type": "stream",
     "text": [
      "Bright 30\n"
     ]
    }
   ],
   "source": [
    "func(\"Bright\", 30)"
   ]
  },
  {
   "cell_type": "code",
   "execution_count": 5,
   "id": "839fb668-b237-4c54-8b05-fd80ed453e3e",
   "metadata": {},
   "outputs": [],
   "source": [
    "# Q2. a function that accept a variable length of arguments and print their values"
   ]
  },
  {
   "cell_type": "code",
   "execution_count": 10,
   "id": "31dcd37f-058b-4f99-b53f-3fd6d9c78e37",
   "metadata": {},
   "outputs": [],
   "source": [
    "def func1(*args):\n",
    "    for i in args:\n",
    "        print(i)"
   ]
  },
  {
   "cell_type": "code",
   "execution_count": 11,
   "id": "7a1580f0-405a-4897-87ca-73d9012f378b",
   "metadata": {},
   "outputs": [
    {
     "name": "stdout",
     "output_type": "stream",
     "text": [
      "20\n",
      "40\n",
      "80\n"
     ]
    }
   ],
   "source": [
    "func1(20, 40, 80)"
   ]
  },
  {
   "cell_type": "code",
   "execution_count": 21,
   "id": "744dbd9e-ac9d-4e09-a12a-e6a648f0b0ba",
   "metadata": {},
   "outputs": [],
   "source": [
    "# Q3. A function that can accept two variables and calculate addition and subtraction.\n",
    "# it must return both addition and subtraction in a single return call"
   ]
  },
  {
   "cell_type": "code",
   "execution_count": 4,
   "id": "990a0ea4-a99c-401b-b58e-b2358f498cb3",
   "metadata": {},
   "outputs": [
    {
     "name": "stdout",
     "output_type": "stream",
     "text": [
      "(70, 30)\n"
     ]
    }
   ],
   "source": [
    "def calculation(a,b):\n",
    "    addition = a + b\n",
    "    subtraction = a - b\n",
    "    \n",
    "    return addition, subtraction\n",
    "\n",
    "res = calculation (50, 20)\n",
    "print(res)"
   ]
  },
  {
   "cell_type": "code",
   "execution_count": 16,
   "id": "31d2e7e8-76f1-4f21-a6a2-7656e390d594",
   "metadata": {},
   "outputs": [],
   "source": [
    "# Q4. A function showEmployment using the following conditions\n",
    "\n",
    "# it should acepts the employee's name and salary and display both.\n",
    "# if the salary is missing in the function call,then assign a default value 150k to salary"
   ]
  },
  {
   "cell_type": "code",
   "execution_count": 5,
   "id": "2e4d6a83-56a7-4292-99c7-364341e5f0c1",
   "metadata": {},
   "outputs": [
    {
     "name": "stdout",
     "output_type": "stream",
     "text": [
      "Name: Bright salary: 150000\n"
     ]
    }
   ],
   "source": [
    "def show_employee(name, salary=150000):\n",
    "    print(\"Name:\", name, \"salary:\", salary)\n",
    "    \n",
    "show_employee(\"Bright\", 150000)"
   ]
  },
  {
   "cell_type": "code",
   "execution_count": 6,
   "id": "f26ff8cf-1c3d-4769-a41d-10d697cb4836",
   "metadata": {},
   "outputs": [],
   "source": [
    "# Q5. write a program to create a recursive function to calculate the sum ogf numbers from 0 to 10"
   ]
  },
  {
   "cell_type": "code",
   "execution_count": 25,
   "id": "a8131085-0554-4568-8ad3-60e43b78c1f7",
   "metadata": {},
   "outputs": [
    {
     "name": "stdout",
     "output_type": "stream",
     "text": [
      "55\n"
     ]
    }
   ],
   "source": [
    "def addition(num):\n",
    "    if num:\n",
    "        return num + addition(num-1)\n",
    "    else:\n",
    "        return 0\n",
    "    \n",
    "res =addition(10)\n",
    "print(res)\n",
    "        "
   ]
  },
  {
   "cell_type": "code",
   "execution_count": 1,
   "id": "7ae848f4-49fd-4564-9bc4-469aa19612fc",
   "metadata": {},
   "outputs": [],
   "source": [
    "# Q6. Assign a different name to a functiom and call it through the new name.\n",
    "\n",
    "# Below is the function display_student(name,age). Assign a new name show_student(name,age) to it.\n",
    "# and call it the new name"
   ]
  },
  {
   "cell_type": "code",
   "execution_count": 7,
   "id": "0b1c1522-29a5-4940-b4a6-7bb0228d8e60",
   "metadata": {},
   "outputs": [
    {
     "name": "stdout",
     "output_type": "stream",
     "text": [
      "Bright 28\n",
      "Bright 28\n"
     ]
    }
   ],
   "source": [
    "def display_student(name,age):\n",
    "    print(name,age)\n",
    "    \n",
    "    # using original name\n",
    "display_student(\"Bright\", 28)\n",
    "        \n",
    "    # assign new name\n",
    "showStudent = display_student\n",
    "\n",
    "showStudent(\"Bright\", 28)"
   ]
  },
  {
   "cell_type": "code",
   "execution_count": 8,
   "id": "7608447b-6a57-4a4c-a70f-d280be6df584",
   "metadata": {},
   "outputs": [],
   "source": [
    "# Q7. Wite a lamda function to reverse a string\n",
    "\n",
    "# Example if given \"james\"\n",
    "\n",
    "# Result \"semaj\""
   ]
  },
  {
   "cell_type": "code",
   "execution_count": 20,
   "id": "0dee9f7a-8649-4fd3-bee3-d1af868219f9",
   "metadata": {},
   "outputs": [],
   "source": [
    "def reverseStr(x):\n",
    "    return x[:: -1]"
   ]
  },
  {
   "cell_type": "code",
   "execution_count": 21,
   "id": "9188e0bc-28df-45f4-bd30-ba081ed5cfab",
   "metadata": {},
   "outputs": [
    {
     "data": {
      "text/plain": [
       "'mra'"
      ]
     },
     "execution_count": 21,
     "metadata": {},
     "output_type": "execute_result"
    }
   ],
   "source": [
    "reverseStr(\"arm\")"
   ]
  },
  {
   "cell_type": "code",
   "execution_count": 22,
   "id": "f745bdc0-adc8-49c8-8e83-933b380dcbfe",
   "metadata": {},
   "outputs": [],
   "source": [
    "# Q8. create a function to generate a python list of all the even numbers from 6 to 90"
   ]
  },
  {
   "cell_type": "code",
   "execution_count": 3,
   "id": "fbae48b3-17b5-4967-89b5-248541d1ac09",
   "metadata": {},
   "outputs": [],
   "source": [
    "import numpy as np"
   ]
  },
  {
   "cell_type": "code",
   "execution_count": 5,
   "id": "8e7a6da8-fa0b-4600-a0a7-c69bacb4c57c",
   "metadata": {},
   "outputs": [],
   "source": [
    "arr = np.arange(6,90,2)"
   ]
  },
  {
   "cell_type": "code",
   "execution_count": 6,
   "id": "3964525e-2e25-4f24-afb0-d1d199663955",
   "metadata": {},
   "outputs": [
    {
     "name": "stdout",
     "output_type": "stream",
     "text": [
      "[ 6  8 10 12 14 16 18 20 22 24 26 28 30 32 34 36 38 40 42 44 46 48 50 52\n",
      " 54 56 58 60 62 64 66 68 70 72 74 76 78 80 82 84 86 88]\n"
     ]
    }
   ],
   "source": [
    "print(arr)"
   ]
  },
  {
   "cell_type": "code",
   "execution_count": 8,
   "id": "4987c0f3-af84-43e0-8a0b-df09e786ace9",
   "metadata": {},
   "outputs": [],
   "source": [
    "# Q9.create a function to find the day of the week, for a given a date and present the answer as a string text\n",
    "\n",
    "# input sample(2022,5,1)\n",
    "\n",
    "# output(sunday)\n"
   ]
  },
  {
   "cell_type": "code",
   "execution_count": 5,
   "id": "2971f844-272c-482a-b9fd-d3c5960aa217",
   "metadata": {},
   "outputs": [],
   "source": [
    "import datetime"
   ]
  },
  {
   "cell_type": "code",
   "execution_count": 6,
   "id": "7208f1d8-b4b5-4b60-8adb-fed4be7b4b7f",
   "metadata": {},
   "outputs": [],
   "source": [
    "import calendar"
   ]
  },
  {
   "cell_type": "code",
   "execution_count": 14,
   "id": "d4bfe281-f267-4012-b6f7-ee267359645f",
   "metadata": {},
   "outputs": [
    {
     "name": "stdout",
     "output_type": "stream",
     "text": [
      "Sunday\n"
     ]
    }
   ],
   "source": [
    "def findDay(date):\n",
    "    born = datetime.datetime.strptime(date, '%Y %m %d').weekday()\n",
    "    return (calendar.day_name[born])\n",
    "\n",
    "date = '2022 5 1'\n",
    "print(findDay(date))"
   ]
  },
  {
   "cell_type": "code",
   "execution_count": 16,
   "id": "44ce48f4-7968-4b5f-8348-5d80568e0c67",
   "metadata": {},
   "outputs": [],
   "source": [
    "# 10. create a function to find the number of days between two given dates."
   ]
  },
  {
   "cell_type": "code",
   "execution_count": 24,
   "id": "37e62355-b81c-4d24-9b57-ee2b7e5d063b",
   "metadata": {},
   "outputs": [],
   "source": [
    "from datetime import date as date_n"
   ]
  },
  {
   "cell_type": "code",
   "execution_count": 32,
   "id": "b4c683e9-c8f9-4a63-9244-97963f13fb3e",
   "metadata": {},
   "outputs": [
    {
     "name": "stdout",
     "output_type": "stream",
     "text": [
      "Number of Days between the given dates are: 3 days\n"
     ]
    }
   ],
   "source": [
    "def number_of_days(date_1,date_2):\n",
    "    return(date_2-date_1).days\n",
    "\n",
    "date_1=date_n(2022,5,1)\n",
    "\n",
    "date_2=date_n(2022,5,4)\n",
    "\n",
    "print(\"Number of Days between the given dates are:\",number_of_days(date_1,date_2),\"days\")"
   ]
  },
  {
   "cell_type": "code",
   "execution_count": null,
   "id": "594c0b87-cce6-435e-8510-1838fc51b564",
   "metadata": {},
   "outputs": [],
   "source": []
  }
 ],
 "metadata": {
  "kernelspec": {
   "display_name": "Python 3 (ipykernel)",
   "language": "python",
   "name": "python3"
  },
  "language_info": {
   "codemirror_mode": {
    "name": "ipython",
    "version": 3
   },
   "file_extension": ".py",
   "mimetype": "text/x-python",
   "name": "python",
   "nbconvert_exporter": "python",
   "pygments_lexer": "ipython3",
   "version": "3.9.7"
  }
 },
 "nbformat": 4,
 "nbformat_minor": 5
}
